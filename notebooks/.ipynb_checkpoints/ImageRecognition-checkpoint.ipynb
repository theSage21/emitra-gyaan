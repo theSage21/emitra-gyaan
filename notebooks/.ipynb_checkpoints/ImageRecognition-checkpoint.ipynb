{
 "cells": [
  {
   "cell_type": "code",
   "execution_count": 1,
   "metadata": {
    "collapsed": false
   },
   "outputs": [
    {
     "name": "stdout",
     "output_type": "stream",
     "text": [
      "Populating the interactive namespace from numpy and matplotlib\n"
     ]
    }
   ],
   "source": [
    "import pandas as pd\n",
    "import seaborn as sns\n",
    "import bs4\n",
    "import requests\n",
    "import os\n",
    "from scipy.misc import imresize\n",
    "from bleedml.classifiers import CascadeForest\n",
    "from bleedml.utils import multi2Dscan, scan2D\n",
    "from sklearn.model_selection import cross_val_score\n",
    "import pickle\n",
    "from sklearn.ensemble import RandomForestClassifier\n",
    "from importlib import reload\n",
    "%pylab inline"
   ]
  },
  {
   "cell_type": "code",
   "execution_count": 2,
   "metadata": {
    "collapsed": true
   },
   "outputs": [],
   "source": [
    "def get_image_links(search, limit=100):\n",
    "    link = 'https://www.google.com/search?q={search}&oq={search}&start={start}'\n",
    "    start = 0\n",
    "    links = []\n",
    "    while len(links) < limit:\n",
    "        print(start)\n",
    "        page = requests.get(link.format(search=search, start=0))\n",
    "        if page.status_code == 200:\n",
    "            soup = bs4.BeautifulSoup(page.text, 'html5lib')\n",
    "            newlinks = [i.get('src') for i in soup.find_all('img')]\n",
    "            start += len(newlinks)\n",
    "            links.extend(newlinks)\n",
    "        else:\n",
    "            print('error in link')\n",
    "    return links"
   ]
  },
  {
   "cell_type": "code",
   "execution_count": 3,
   "metadata": {
    "collapsed": false
   },
   "outputs": [],
   "source": [
    "if not os.path.exists('wheatlinks'):\n",
    "    links = get_image_links('wheat')\n",
    "    links = list(set(links))\n",
    "    with open('wheatlinks', 'w') as fl:\n",
    "        fl.write('\\n'.join(links))\n",
    "    ! mkdir ../images/wheat/\n",
    "    ! cd ../images/wheat/ && wget -i ../../notebooks/wheatlinks"
   ]
  },
  {
   "cell_type": "code",
   "execution_count": 4,
   "metadata": {
    "collapsed": false
   },
   "outputs": [],
   "source": [
    "if not os.path.exists('ricelinks'):\n",
    "    links = get_image_links('rice')\n",
    "    links = list(set(links))\n",
    "    with open('ricelinks', 'w') as fl:\n",
    "        fl.write('\\n'.join(links))\n",
    "\n",
    "    ! mkdir ../images/rice/\n",
    "    ! cd ../images/rice/ && wget -i ../../notebooks/ricelinks"
   ]
  },
  {
   "cell_type": "markdown",
   "metadata": {},
   "source": [
    "### Creating training dataset"
   ]
  },
  {
   "cell_type": "code",
   "execution_count": 5,
   "metadata": {
    "collapsed": true
   },
   "outputs": [],
   "source": [
    "wheat_paths = []\n",
    "for fl in os.listdir('../images/wheat/'):\n",
    "    path = '../images/wheat/' + fl\n",
    "    wheat_paths.append(path)"
   ]
  },
  {
   "cell_type": "code",
   "execution_count": 6,
   "metadata": {
    "collapsed": false
   },
   "outputs": [],
   "source": [
    "rice_paths = []\n",
    "for fl in os.listdir('../images/rice/'):\n",
    "    path = '../images/rice/' + fl\n",
    "    rice_paths.append(path)"
   ]
  },
  {
   "cell_type": "code",
   "execution_count": 7,
   "metadata": {
    "collapsed": false
   },
   "outputs": [],
   "source": [
    "wx, wy = set(), set()\n",
    "for path in wheat_paths:\n",
    "    x, y, _  = imread(path).shape\n",
    "    wx.add(x); wy.add(y)"
   ]
  },
  {
   "cell_type": "code",
   "execution_count": 8,
   "metadata": {
    "collapsed": false
   },
   "outputs": [
    {
     "data": {
      "text/plain": [
       "(50, 72)"
      ]
     },
     "execution_count": 8,
     "metadata": {},
     "output_type": "execute_result"
    }
   ],
   "source": [
    "for path in rice_paths:\n",
    "    x, y, _  = imread(path).shape\n",
    "    wx.add(x); wy.add(y)\n",
    "wx = list(sorted(wx))\n",
    "wy = list(sorted(wy))\n",
    "wx[0], wy[0]"
   ]
  },
  {
   "cell_type": "code",
   "execution_count": 9,
   "metadata": {
    "collapsed": false
   },
   "outputs": [
    {
     "name": "stdout",
     "output_type": "stream",
     "text": [
      "29\n",
      "(29, 50, 72, 3)\n"
     ]
    }
   ],
   "source": [
    "images, labels = [], []\n",
    "for path in rice_paths:\n",
    "    image = imresize(imread(path), (wx[0], wy[0]))\n",
    "    images.append(image)\n",
    "    labels.append('rice')\n",
    "for path in wheat_paths:\n",
    "    image = imresize(imread(path), (wx[0], wy[0]))\n",
    "    images.append(image)\n",
    "    labels.append('wheat')\n",
    "mask = np.random.random(len(labels)) < 1\n",
    "images = np.array(images)[mask]\n",
    "labels = np.array(labels)[mask]\n",
    "\n",
    "print(len(labels))\n",
    "print(images.shape)"
   ]
  },
  {
   "cell_type": "code",
   "execution_count": 10,
   "metadata": {
    "collapsed": false
   },
   "outputs": [
    {
     "name": "stdout",
     "output_type": "stream",
     "text": [
      "[ 0.90909091  0.77777778  1.        ]\n"
     ]
    }
   ],
   "source": [
    "X, y = [i.flatten() for i in images], labels\n",
    "scores = cross_val_score(RandomForestClassifier(n_jobs=-1), X, y, cv=3)\n",
    "print(scores)"
   ]
  },
  {
   "cell_type": "code",
   "execution_count": 11,
   "metadata": {
    "collapsed": false
   },
   "outputs": [
    {
     "data": {
      "text/plain": [
       "RandomForestClassifier(bootstrap=True, class_weight=None, criterion='gini',\n",
       "            max_depth=None, max_features='auto', max_leaf_nodes=None,\n",
       "            min_impurity_split=1e-07, min_samples_leaf=1,\n",
       "            min_samples_split=2, min_weight_fraction_leaf=0.0,\n",
       "            n_estimators=10, n_jobs=-1, oob_score=False, random_state=None,\n",
       "            verbose=0, warm_start=False)"
      ]
     },
     "execution_count": 11,
     "metadata": {},
     "output_type": "execute_result"
    }
   ],
   "source": [
    "est = RandomForestClassifier(n_jobs=-1)\n",
    "est.fit(X, y)"
   ]
  },
  {
   "cell_type": "code",
   "execution_count": 12,
   "metadata": {
    "collapsed": true
   },
   "outputs": [],
   "source": [
    "with open('../image_classifier.pickle', 'wb') as fl:\n",
    "    pickle.dump(est, fl)"
   ]
  },
  {
   "cell_type": "code",
   "execution_count": 13,
   "metadata": {
    "collapsed": false
   },
   "outputs": [
    {
     "data": {
      "text/plain": [
       "array(['rice', 'wheat'], \n",
       "      dtype='<U5')"
      ]
     },
     "execution_count": 13,
     "metadata": {},
     "output_type": "execute_result"
    }
   ],
   "source": [
    "est.classes_"
   ]
  }
 ],
 "metadata": {
  "kernelspec": {
   "display_name": "Python 3",
   "language": "python",
   "name": "python3"
  },
  "language_info": {
   "codemirror_mode": {
    "name": "ipython",
    "version": 3
   },
   "file_extension": ".py",
   "mimetype": "text/x-python",
   "name": "python",
   "nbconvert_exporter": "python",
   "pygments_lexer": "ipython3",
   "version": "3.6.0"
  }
 },
 "nbformat": 4,
 "nbformat_minor": 2
}
