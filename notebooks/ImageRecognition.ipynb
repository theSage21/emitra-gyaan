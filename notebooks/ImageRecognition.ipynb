{
 "cells": [
  {
   "cell_type": "code",
   "execution_count": 47,
   "metadata": {
    "collapsed": false
   },
   "outputs": [
    {
     "name": "stdout",
     "output_type": "stream",
     "text": [
      "Populating the interactive namespace from numpy and matplotlib\n"
     ]
    }
   ],
   "source": [
    "import pandas as pd\n",
    "import seaborn as sns\n",
    "import bs4\n",
    "import requests\n",
    "import os\n",
    "from scipy.misc import imresize\n",
    "from bleedml.classifiers import CascadeForest\n",
    "from bleedml.utils import multi2Dscan, scan2D\n",
    "from sklearn.model_selection import cross_val_score\n",
    "import pickle\n",
    "from sklearn.ensemble import RandomForestClassifier\n",
    "from importlib import reload\n",
    "%pylab inline"
   ]
  },
  {
   "cell_type": "code",
   "execution_count": 33,
   "metadata": {
    "collapsed": true
   },
   "outputs": [],
   "source": [
    "def get_image_links(search, limit=100):\n",
    "    link = 'https://www.google.com/search?q={search}&oq={search}&start={start}'\n",
    "    start = 0\n",
    "    links = []\n",
    "    while len(links) < limit:\n",
    "        print(start)\n",
    "        page = requests.get(link.format(search=search, start=0))\n",
    "        if page.status_code == 200:\n",
    "            soup = bs4.BeautifulSoup(page.text, 'html5lib')\n",
    "            newlinks = [i.get('src') for i in soup.find_all('img')]\n",
    "            start += len(newlinks)\n",
    "            links.extend(newlinks)\n",
    "        else:\n",
    "            print('error in link')\n",
    "    return links"
   ]
  },
  {
   "cell_type": "code",
   "execution_count": 34,
   "metadata": {
    "collapsed": false
   },
   "outputs": [
    {
     "name": "stdout",
     "output_type": "stream",
     "text": [
      "0\n",
      "12\n",
      "24\n",
      "36\n",
      "48\n",
      "60\n",
      "72\n",
      "84\n",
      "96\n",
      "mkdir: cannot create directory ‘../images/wheat/’: File exists\n",
      "--2017-03-21 01:25:46--  https://encrypted-tbn1.gstatic.com/images?q=tbn:ANd9GcRUbTwSA164YCbHmfZUJ43BqoRzmc1h9HgfC9wWDUrNIxjm28SD288QoA\n",
      "Resolving encrypted-tbn1.gstatic.com... 216.58.220.206, 2404:6800:4002:804::200e\n",
      "Connecting to encrypted-tbn1.gstatic.com|216.58.220.206|:443... connected.\n",
      "HTTP request sent, awaiting response... 200 OK\n",
      "Length: 4538 (4.4K) [image/jpeg]\n",
      "Saving to: ‘images?q=tbn:ANd9GcRUbTwSA164YCbHmfZUJ43BqoRzmc1h9HgfC9wWDUrNIxjm28SD288QoA.1’\n",
      "\n",
      "images?q=tbn:ANd9Gc 100%[===================>]   4.43K  --.-KB/s    in 0.005s  \n",
      "\n",
      "2017-03-21 01:25:46 (956 KB/s) - ‘images?q=tbn:ANd9GcRUbTwSA164YCbHmfZUJ43BqoRzmc1h9HgfC9wWDUrNIxjm28SD288QoA.1’ saved [4538/4538]\n",
      "\n",
      "--2017-03-21 01:25:46--  https://encrypted-tbn3.gstatic.com/images?q=tbn:ANd9GcSgXGeSanMxeGkDxBJ6uyyXG-k4wLOFKJgxlhKap3TvCVKwpGcYg0rPqsWeSWJ24JJDuJ8\n",
      "Resolving encrypted-tbn3.gstatic.com... 216.58.220.206, 2404:6800:4002:804::200e\n",
      "Connecting to encrypted-tbn3.gstatic.com|216.58.220.206|:443... connected.\n",
      "HTTP request sent, awaiting response... 200 OK\n",
      "Length: 1620 (1.6K) [image/jpeg]\n",
      "Saving to: ‘images?q=tbn:ANd9GcSgXGeSanMxeGkDxBJ6uyyXG-k4wLOFKJgxlhKap3TvCVKwpGcYg0rPqsWeSWJ24JJDuJ8’\n",
      "\n",
      "images?q=tbn:ANd9Gc 100%[===================>]   1.58K  --.-KB/s    in 0s      \n",
      "\n",
      "2017-03-21 01:25:46 (11.9 MB/s) - ‘images?q=tbn:ANd9GcSgXGeSanMxeGkDxBJ6uyyXG-k4wLOFKJgxlhKap3TvCVKwpGcYg0rPqsWeSWJ24JJDuJ8’ saved [1620/1620]\n",
      "\n",
      "--2017-03-21 01:25:46--  https://encrypted-tbn3.gstatic.com/images?q=tbn:ANd9GcRKsXgYHtM02yRY0Lhf0GPQBlSyBaj_KEr2sEoRNHhZpV-dEkDJsi_IX5-YieU2M3kGHL8\n",
      "Reusing existing connection to encrypted-tbn3.gstatic.com:443.\n",
      "HTTP request sent, awaiting response... 200 OK\n",
      "Length: 1598 (1.6K) [image/jpeg]\n",
      "Saving to: ‘images?q=tbn:ANd9GcRKsXgYHtM02yRY0Lhf0GPQBlSyBaj_KEr2sEoRNHhZpV-dEkDJsi_IX5-YieU2M3kGHL8’\n",
      "\n",
      "images?q=tbn:ANd9Gc 100%[===================>]   1.56K  --.-KB/s    in 0s      \n",
      "\n",
      "2017-03-21 01:25:46 (3.26 MB/s) - ‘images?q=tbn:ANd9GcRKsXgYHtM02yRY0Lhf0GPQBlSyBaj_KEr2sEoRNHhZpV-dEkDJsi_IX5-YieU2M3kGHL8’ saved [1598/1598]\n",
      "\n",
      "--2017-03-21 01:25:46--  https://encrypted-tbn0.gstatic.com/images?q=tbn:ANd9GcTrGs4hMMNPlddbopjMhL7jmofhcaypACSCFFEx1z7dSil8JOn6j2oFJyg\n",
      "Resolving encrypted-tbn0.gstatic.com... 216.58.220.206, 2404:6800:4002:804::200e\n",
      "Connecting to encrypted-tbn0.gstatic.com|216.58.220.206|:443... connected.\n",
      "HTTP request sent, awaiting response... 200 OK\n",
      "Length: 4921 (4.8K) [image/jpeg]\n",
      "Saving to: ‘images?q=tbn:ANd9GcTrGs4hMMNPlddbopjMhL7jmofhcaypACSCFFEx1z7dSil8JOn6j2oFJyg.1’\n",
      "\n",
      "images?q=tbn:ANd9Gc 100%[===================>]   4.81K  --.-KB/s    in 0.002s  \n",
      "\n",
      "2017-03-21 01:25:47 (2.07 MB/s) - ‘images?q=tbn:ANd9GcTrGs4hMMNPlddbopjMhL7jmofhcaypACSCFFEx1z7dSil8JOn6j2oFJyg.1’ saved [4921/4921]\n",
      "\n",
      "--2017-03-21 01:25:47--  https://encrypted-tbn3.gstatic.com/images?q=tbn:ANd9GcSeL5Of_AsSMKlwLgkZx-Pifv7-SqmLE_L2aoNLGHTMYELMzE8cJDSpPMNNFRCCtu4Y4g4\n",
      "Connecting to encrypted-tbn3.gstatic.com|216.58.220.206|:443... connected.\n",
      "HTTP request sent, awaiting response... 200 OK\n",
      "Length: 2085 (2.0K) [image/jpeg]\n",
      "Saving to: ‘images?q=tbn:ANd9GcSeL5Of_AsSMKlwLgkZx-Pifv7-SqmLE_L2aoNLGHTMYELMzE8cJDSpPMNNFRCCtu4Y4g4’\n",
      "\n",
      "images?q=tbn:ANd9Gc 100%[===================>]   2.04K  --.-KB/s    in 0s      \n",
      "\n",
      "2017-03-21 01:25:47 (5.30 MB/s) - ‘images?q=tbn:ANd9GcSeL5Of_AsSMKlwLgkZx-Pifv7-SqmLE_L2aoNLGHTMYELMzE8cJDSpPMNNFRCCtu4Y4g4’ saved [2085/2085]\n",
      "\n",
      "--2017-03-21 01:25:47--  https://encrypted-tbn1.gstatic.com/images?q=tbn:ANd9GcSuodRM_6wJ4cIwknxMwzd-xbFYG0aGC8V_4i7D9z0KY5WXCwsPNIa_4GUC\n",
      "Connecting to encrypted-tbn1.gstatic.com|216.58.220.206|:443... connected.\n",
      "HTTP request sent, awaiting response... 200 OK\n",
      "Length: 11993 (12K) [image/jpeg]\n",
      "Saving to: ‘images?q=tbn:ANd9GcSuodRM_6wJ4cIwknxMwzd-xbFYG0aGC8V_4i7D9z0KY5WXCwsPNIa_4GUC.1’\n",
      "\n",
      "images?q=tbn:ANd9Gc 100%[===================>]  11.71K  --.-KB/s    in 0.01s   \n",
      "\n",
      "2017-03-21 01:25:47 (987 KB/s) - ‘images?q=tbn:ANd9GcSuodRM_6wJ4cIwknxMwzd-xbFYG0aGC8V_4i7D9z0KY5WXCwsPNIa_4GUC.1’ saved [11993/11993]\n",
      "\n",
      "--2017-03-21 01:25:47--  https://encrypted-tbn1.gstatic.com/images?q=tbn:ANd9GcS6Qzr4JGgPjTbvjqTJB_fdxYHe8vFt0tUNZ3_ZRUu2YlghwARLR2IJwrLA5wc32o__zv4\n",
      "Reusing existing connection to encrypted-tbn1.gstatic.com:443.\n",
      "HTTP request sent, awaiting response... 200 OK\n",
      "Length: 2938 (2.9K) [image/jpeg]\n",
      "Saving to: ‘images?q=tbn:ANd9GcS6Qzr4JGgPjTbvjqTJB_fdxYHe8vFt0tUNZ3_ZRUu2YlghwARLR2IJwrLA5wc32o__zv4’\n",
      "\n",
      "images?q=tbn:ANd9Gc 100%[===================>]   2.87K  --.-KB/s    in 0s      \n",
      "\n",
      "2017-03-21 01:25:47 (14.4 MB/s) - ‘images?q=tbn:ANd9GcS6Qzr4JGgPjTbvjqTJB_fdxYHe8vFt0tUNZ3_ZRUu2YlghwARLR2IJwrLA5wc32o__zv4’ saved [2938/2938]\n",
      "\n",
      "--2017-03-21 01:25:47--  https://encrypted-tbn1.gstatic.com/images?q=tbn:ANd9GcSLxnMweNe1iRAye7PNRARhafgcF3rQWrtPSanpFL6nd6s3vkEYm5XxuM3keMGuHTBSq3Q\n",
      "Reusing existing connection to encrypted-tbn1.gstatic.com:443.\n",
      "HTTP request sent, awaiting response... 200 OK\n",
      "Length: 1840 (1.8K) [image/jpeg]\n",
      "Saving to: ‘images?q=tbn:ANd9GcSLxnMweNe1iRAye7PNRARhafgcF3rQWrtPSanpFL6nd6s3vkEYm5XxuM3keMGuHTBSq3Q’\n",
      "\n",
      "images?q=tbn:ANd9Gc 100%[===================>]   1.80K  --.-KB/s    in 0.001s  \n",
      "\n",
      "2017-03-21 01:25:47 (1.18 MB/s) - ‘images?q=tbn:ANd9GcSLxnMweNe1iRAye7PNRARhafgcF3rQWrtPSanpFL6nd6s3vkEYm5XxuM3keMGuHTBSq3Q’ saved [1840/1840]\n",
      "\n",
      "--2017-03-21 01:25:47--  https://encrypted-tbn0.gstatic.com/images?q=tbn:ANd9GcR8BNt0dmZuu6tqvQfW9GhYLZNpTjnyyoluWhNEzB4D4ElLJNpj1mVm5Ac\n",
      "Connecting to encrypted-tbn0.gstatic.com|216.58.220.206|:443... connected.\n",
      "HTTP request sent, awaiting response... 200 OK\n",
      "Length: 3114 (3.0K) [image/jpeg]\n",
      "Saving to: ‘images?q=tbn:ANd9GcR8BNt0dmZuu6tqvQfW9GhYLZNpTjnyyoluWhNEzB4D4ElLJNpj1mVm5Ac’\n",
      "\n",
      "images?q=tbn:ANd9Gc 100%[===================>]   3.04K  --.-KB/s    in 0.01s   \n",
      "\n",
      "2017-03-21 01:25:47 (312 KB/s) - ‘images?q=tbn:ANd9GcR8BNt0dmZuu6tqvQfW9GhYLZNpTjnyyoluWhNEzB4D4ElLJNpj1mVm5Ac’ saved [3114/3114]\n",
      "\n",
      "--2017-03-21 01:25:47--  https://encrypted-tbn0.gstatic.com/images?q=tbn:ANd9GcT0tXWQETNFmy7yu8gK-IxpkP6s8b3msXKraveOXxL_ZdM62Qe7_K7TTSUM\n",
      "Reusing existing connection to encrypted-tbn0.gstatic.com:443.\n",
      "HTTP request sent, awaiting response... 200 OK\n",
      "Length: 3594 (3.5K) [image/jpeg]\n",
      "Saving to: ‘images?q=tbn:ANd9GcT0tXWQETNFmy7yu8gK-IxpkP6s8b3msXKraveOXxL_ZdM62Qe7_K7TTSUM.1’\n",
      "\n",
      "images?q=tbn:ANd9Gc 100%[===================>]   3.51K  --.-KB/s    in 0.006s  \n",
      "\n",
      "2017-03-21 01:25:47 (584 KB/s) - ‘images?q=tbn:ANd9GcT0tXWQETNFmy7yu8gK-IxpkP6s8b3msXKraveOXxL_ZdM62Qe7_K7TTSUM.1’ saved [3594/3594]\n",
      "\n",
      "--2017-03-21 01:25:47--  https://encrypted-tbn3.gstatic.com/images?q=tbn:ANd9GcRO8mjAtby83bDRb7dLvGyUuP9FVROcnr24WhnRULpA3vptrSE0AiuzrWf-3vLQmnxpt0g\n",
      "Connecting to encrypted-tbn3.gstatic.com|216.58.220.206|:443... connected.\n",
      "HTTP request sent, awaiting response... 200 OK\n",
      "Length: 1707 (1.7K) [image/jpeg]\n",
      "Saving to: ‘images?q=tbn:ANd9GcRO8mjAtby83bDRb7dLvGyUuP9FVROcnr24WhnRULpA3vptrSE0AiuzrWf-3vLQmnxpt0g’\n",
      "\n",
      "images?q=tbn:ANd9Gc 100%[===================>]   1.67K  --.-KB/s    in 0s      \n",
      "\n",
      "2017-03-21 01:25:47 (14.5 MB/s) - ‘images?q=tbn:ANd9GcRO8mjAtby83bDRb7dLvGyUuP9FVROcnr24WhnRULpA3vptrSE0AiuzrWf-3vLQmnxpt0g’ saved [1707/1707]\n",
      "\n",
      "--2017-03-21 01:25:47--  https://encrypted-tbn0.gstatic.com/images?q=tbn:ANd9GcTaf39OZdMoeT-S8UzUfsgLPxTssunUO5KkfpgpK2ItH_-tsbc9sDvVLnOqo_kI2xtL-Hk\n",
      "Connecting to encrypted-tbn0.gstatic.com|216.58.220.206|:443... connected.\n",
      "HTTP request sent, awaiting response... 200 OK\n",
      "Length: 1526 (1.5K) [image/jpeg]\n",
      "Saving to: ‘images?q=tbn:ANd9GcTaf39OZdMoeT-S8UzUfsgLPxTssunUO5KkfpgpK2ItH_-tsbc9sDvVLnOqo_kI2xtL-Hk’\n",
      "\n",
      "images?q=tbn:ANd9Gc 100%[===================>]   1.49K  --.-KB/s    in 0.001s  \n",
      "\n",
      "2017-03-21 01:25:47 (2.24 MB/s) - ‘images?q=tbn:ANd9GcTaf39OZdMoeT-S8UzUfsgLPxTssunUO5KkfpgpK2ItH_-tsbc9sDvVLnOqo_kI2xtL-Hk’ saved [1526/1526]\n",
      "\n",
      "FINISHED --2017-03-21 01:25:47--\n",
      "Total wall clock time: 1.4s\n",
      "Downloaded: 12 files, 41K in 0.04s (1.04 MB/s)\n"
     ]
    }
   ],
   "source": [
    "if not os.path.exists('wheatlinks'):\n",
    "    links = get_image_links('wheat')\n",
    "    links = list(set(links))\n",
    "    with open('wheatlinks', 'w') as fl:\n",
    "        fl.write('\\n'.join(links))\n",
    "    ! mkdir ../images/wheat/\n",
    "    ! cd ../images/wheat/ && wget -i ../../notebooks/wheatlinks"
   ]
  },
  {
   "cell_type": "code",
   "execution_count": 35,
   "metadata": {
    "collapsed": false
   },
   "outputs": [
    {
     "name": "stdout",
     "output_type": "stream",
     "text": [
      "0\n",
      "14\n",
      "28\n",
      "42\n",
      "56\n",
      "70\n",
      "84\n",
      "98\n",
      "../../notebooks/ricelinks: Invalid URL //lh6.googleusercontent.com/proxy/5yZ3VhEXaYVuQcRPhySuxoWU92ojkm2xYQx_oB--JSi05yGnblcToVRjOYjmpFMmgoVvYBBgqvTVqBUqv5lLl4Hjh9oBCX6K0Pf20mVRdId8Al08zt3fUO87NJRWuP__HGPl3tUEeo9aQjsXfUtArmbNz8Ozdg=w115-h115: Scheme missing\n",
      "--2017-03-21 01:26:10--  https://encrypted-tbn1.gstatic.com/images?q=tbn:ANd9GcSnVe-MQhPVgzn2Cz0NLmK-wZIRvRkktysAIDH2oaITE7ddfX0XUS6ItA\n",
      "Resolving encrypted-tbn1.gstatic.com... 216.58.220.206, 2404:6800:4002:804::200e\n",
      "Connecting to encrypted-tbn1.gstatic.com|216.58.220.206|:443... connected.\n",
      "HTTP request sent, awaiting response... 200 OK\n",
      "Length: 3341 (3.3K) [image/jpeg]\n",
      "Saving to: ‘images?q=tbn:ANd9GcSnVe-MQhPVgzn2Cz0NLmK-wZIRvRkktysAIDH2oaITE7ddfX0XUS6ItA’\n",
      "\n",
      "images?q=tbn:ANd9Gc 100%[===================>]   3.26K  --.-KB/s    in 0.001s  \n",
      "\n",
      "2017-03-21 01:26:10 (5.31 MB/s) - ‘images?q=tbn:ANd9GcSnVe-MQhPVgzn2Cz0NLmK-wZIRvRkktysAIDH2oaITE7ddfX0XUS6ItA’ saved [3341/3341]\n",
      "\n",
      "--2017-03-21 01:26:10--  https://encrypted-tbn0.gstatic.com/images?q=tbn:ANd9GcRJQPCb-upZ4YAQ_kNAwSYJLDwzKzUqEBNziqQicpaaYqShbA_1fhdJhdAWcasf4vIeFw\n",
      "Resolving encrypted-tbn0.gstatic.com... 216.58.220.206, 2404:6800:4002:804::200e\n",
      "Connecting to encrypted-tbn0.gstatic.com|216.58.220.206|:443... connected.\n",
      "HTTP request sent, awaiting response... 200 OK\n",
      "Length: 3752 (3.7K) [image/jpeg]\n",
      "Saving to: ‘images?q=tbn:ANd9GcRJQPCb-upZ4YAQ_kNAwSYJLDwzKzUqEBNziqQicpaaYqShbA_1fhdJhdAWcasf4vIeFw’\n",
      "\n",
      "images?q=tbn:ANd9Gc 100%[===================>]   3.66K  --.-KB/s    in 0.005s  \n",
      "\n",
      "2017-03-21 01:26:10 (722 KB/s) - ‘images?q=tbn:ANd9GcRJQPCb-upZ4YAQ_kNAwSYJLDwzKzUqEBNziqQicpaaYqShbA_1fhdJhdAWcasf4vIeFw’ saved [3752/3752]\n",
      "\n",
      "--2017-03-21 01:26:10--  https://encrypted-tbn3.gstatic.com/images?q=tbn:ANd9GcSgXGeSanMxeGkDxBJ6uyyXG-k4wLOFKJgxlhKap3TvCVKwpGcYg0rPqsWeSWJ24JJDuJ8\n",
      "Resolving encrypted-tbn3.gstatic.com... 216.58.220.206, 2404:6800:4002:804::200e\n",
      "Connecting to encrypted-tbn3.gstatic.com|216.58.220.206|:443... connected.\n",
      "HTTP request sent, awaiting response... 200 OK\n",
      "Length: 1620 (1.6K) [image/jpeg]\n",
      "Saving to: ‘images?q=tbn:ANd9GcSgXGeSanMxeGkDxBJ6uyyXG-k4wLOFKJgxlhKap3TvCVKwpGcYg0rPqsWeSWJ24JJDuJ8’\n",
      "\n",
      "images?q=tbn:ANd9Gc 100%[===================>]   1.58K  --.-KB/s    in 0s      \n",
      "\n",
      "2017-03-21 01:26:10 (5.97 MB/s) - ‘images?q=tbn:ANd9GcSgXGeSanMxeGkDxBJ6uyyXG-k4wLOFKJgxlhKap3TvCVKwpGcYg0rPqsWeSWJ24JJDuJ8’ saved [1620/1620]\n",
      "\n",
      "--2017-03-21 01:26:10--  https://encrypted-tbn0.gstatic.com/images?q=tbn:ANd9GcRO6O3qDqMQFdPjm5dzrwxVz-4O_I4Qes8Xtlyke9hOOeQHTuYtQZ77KKszBT2kL91Ee44\n",
      "Connecting to encrypted-tbn0.gstatic.com|216.58.220.206|:443... connected.\n",
      "HTTP request sent, awaiting response... 200 OK\n",
      "Length: 2435 (2.4K) [image/jpeg]\n",
      "Saving to: ‘images?q=tbn:ANd9GcRO6O3qDqMQFdPjm5dzrwxVz-4O_I4Qes8Xtlyke9hOOeQHTuYtQZ77KKszBT2kL91Ee44’\n",
      "\n",
      "images?q=tbn:ANd9Gc 100%[===================>]   2.38K  --.-KB/s    in 0.007s  \n",
      "\n",
      "2017-03-21 01:26:10 (351 KB/s) - ‘images?q=tbn:ANd9GcRO6O3qDqMQFdPjm5dzrwxVz-4O_I4Qes8Xtlyke9hOOeQHTuYtQZ77KKszBT2kL91Ee44’ saved [2435/2435]\n",
      "\n",
      "--2017-03-21 01:26:10--  https://encrypted-tbn2.gstatic.com/images?q=tbn:ANd9GcTwYnpsu1PY_U0HXc97NcIwYvbvbK6BnW6Eab0ALXgvBC5FWA-1w42mMZI\n",
      "Resolving encrypted-tbn2.gstatic.com... 216.58.220.206, 2404:6800:4002:804::200e\n",
      "Connecting to encrypted-tbn2.gstatic.com|216.58.220.206|:443... connected.\n",
      "HTTP request sent, awaiting response... 200 OK\n",
      "Length: 1874 (1.8K) [image/jpeg]\n",
      "Saving to: ‘images?q=tbn:ANd9GcTwYnpsu1PY_U0HXc97NcIwYvbvbK6BnW6Eab0ALXgvBC5FWA-1w42mMZI’\n",
      "\n",
      "images?q=tbn:ANd9Gc 100%[===================>]   1.83K  --.-KB/s    in 0s      \n",
      "\n",
      "2017-03-21 01:26:10 (4.20 MB/s) - ‘images?q=tbn:ANd9GcTwYnpsu1PY_U0HXc97NcIwYvbvbK6BnW6Eab0ALXgvBC5FWA-1w42mMZI’ saved [1874/1874]\n",
      "\n",
      "--2017-03-21 01:26:10--  https://encrypted-tbn0.gstatic.com/images?q=tbn:ANd9GcTKAMwB48YN62hUWAGfsK8egdE-AqMIV6pi5DVXfkyfx2tYT5DiyC7vpp8rW_3PCeSgIDA\n",
      "Connecting to encrypted-tbn0.gstatic.com|216.58.220.206|:443... connected.\n",
      "HTTP request sent, awaiting response... 200 OK\n",
      "Length: 1367 (1.3K) [image/jpeg]\n",
      "Saving to: ‘images?q=tbn:ANd9GcTKAMwB48YN62hUWAGfsK8egdE-AqMIV6pi5DVXfkyfx2tYT5DiyC7vpp8rW_3PCeSgIDA’\n",
      "\n",
      "images?q=tbn:ANd9Gc 100%[===================>]   1.33K  --.-KB/s    in 0s      \n",
      "\n",
      "2017-03-21 01:26:10 (3.83 MB/s) - ‘images?q=tbn:ANd9GcTKAMwB48YN62hUWAGfsK8egdE-AqMIV6pi5DVXfkyfx2tYT5DiyC7vpp8rW_3PCeSgIDA’ saved [1367/1367]\n",
      "\n",
      "--2017-03-21 01:26:10--  https://encrypted-tbn2.gstatic.com/images?q=tbn:ANd9GcTgnF8YQGrGrHewc1Sa2jSeczg_zwEfcq4LweXT-Tw2BmryFPsGk8_jxw\n",
      "Connecting to encrypted-tbn2.gstatic.com|216.58.220.206|:443... connected.\n",
      "HTTP request sent, awaiting response... 200 OK\n",
      "Length: 1521 (1.5K) [image/jpeg]\n",
      "Saving to: ‘images?q=tbn:ANd9GcTgnF8YQGrGrHewc1Sa2jSeczg_zwEfcq4LweXT-Tw2BmryFPsGk8_jxw’\n",
      "\n",
      "images?q=tbn:ANd9Gc 100%[===================>]   1.49K  --.-KB/s    in 0.001s  \n",
      "\n",
      "2017-03-21 01:26:11 (2.35 MB/s) - ‘images?q=tbn:ANd9GcTgnF8YQGrGrHewc1Sa2jSeczg_zwEfcq4LweXT-Tw2BmryFPsGk8_jxw’ saved [1521/1521]\n",
      "\n",
      "--2017-03-21 01:26:11--  https://encrypted-tbn0.gstatic.com/images?q=tbn:ANd9GcSkzWvo0tot0MiM0sKS2RrMF-OfAPTcOYbWzk7NCCaSchXYvkfWwWeC2bA\n",
      "Connecting to encrypted-tbn0.gstatic.com|216.58.220.206|:443... connected.\n",
      "HTTP request sent, awaiting response... 200 OK\n",
      "Length: 2099 (2.0K) [image/jpeg]\n",
      "Saving to: ‘images?q=tbn:ANd9GcSkzWvo0tot0MiM0sKS2RrMF-OfAPTcOYbWzk7NCCaSchXYvkfWwWeC2bA’\n",
      "\n",
      "images?q=tbn:ANd9Gc 100%[===================>]   2.05K  --.-KB/s    in 0s      \n",
      "\n",
      "2017-03-21 01:26:11 (23.4 MB/s) - ‘images?q=tbn:ANd9GcSkzWvo0tot0MiM0sKS2RrMF-OfAPTcOYbWzk7NCCaSchXYvkfWwWeC2bA’ saved [2099/2099]\n",
      "\n",
      "--2017-03-21 01:26:11--  https://encrypted-tbn0.gstatic.com/images?q=tbn:ANd9GcS8um8EKKFbz9euS-QKv4SkUqHNTVXkuc9zAIx4A9aAS-oyhQqRFbZbEA\n",
      "Reusing existing connection to encrypted-tbn0.gstatic.com:443.\n",
      "HTTP request sent, awaiting response... 200 OK\n",
      "Length: 1684 (1.6K) [image/jpeg]\n",
      "Saving to: ‘images?q=tbn:ANd9GcS8um8EKKFbz9euS-QKv4SkUqHNTVXkuc9zAIx4A9aAS-oyhQqRFbZbEA’\n",
      "\n",
      "images?q=tbn:ANd9Gc 100%[===================>]   1.64K  --.-KB/s    in 0s      \n",
      "\n",
      "2017-03-21 01:26:11 (17.6 MB/s) - ‘images?q=tbn:ANd9GcS8um8EKKFbz9euS-QKv4SkUqHNTVXkuc9zAIx4A9aAS-oyhQqRFbZbEA’ saved [1684/1684]\n",
      "\n",
      "--2017-03-21 01:26:11--  https://encrypted-tbn0.gstatic.com/images?q=tbn:ANd9GcTkAAABzKpIE_4LwYnGP8CCaNFh5dd8EqnJkR_jY78JQJIC6sd7yOOT3AUSK5ymkog-W34\n",
      "Reusing existing connection to encrypted-tbn0.gstatic.com:443.\n",
      "HTTP request sent, awaiting response... 200 OK\n",
      "Length: 1868 (1.8K) [image/jpeg]\n",
      "Saving to: ‘images?q=tbn:ANd9GcTkAAABzKpIE_4LwYnGP8CCaNFh5dd8EqnJkR_jY78JQJIC6sd7yOOT3AUSK5ymkog-W34’\n",
      "\n",
      "images?q=tbn:ANd9Gc 100%[===================>]   1.82K  --.-KB/s    in 0.001s  \n",
      "\n",
      "2017-03-21 01:26:11 (1.66 MB/s) - ‘images?q=tbn:ANd9GcTkAAABzKpIE_4LwYnGP8CCaNFh5dd8EqnJkR_jY78JQJIC6sd7yOOT3AUSK5ymkog-W34’ saved [1868/1868]\n",
      "\n",
      "--2017-03-21 01:26:11--  https://encrypted-tbn0.gstatic.com/images?q=tbn:ANd9GcQym0YUdIFu317fGGTLDRkQ1jKUIkszcDz_k-a_uMFTyfNn68r8Eb22eQ\n",
      "Reusing existing connection to encrypted-tbn0.gstatic.com:443.\n",
      "HTTP request sent, awaiting response... 200 OK\n",
      "Length: 1893 (1.8K) [image/jpeg]\n",
      "Saving to: ‘images?q=tbn:ANd9GcQym0YUdIFu317fGGTLDRkQ1jKUIkszcDz_k-a_uMFTyfNn68r8Eb22eQ’\n",
      "\n",
      "images?q=tbn:ANd9Gc 100%[===================>]   1.85K  --.-KB/s    in 0s      \n",
      "\n",
      "2017-03-21 01:26:11 (8.05 MB/s) - ‘images?q=tbn:ANd9GcQym0YUdIFu317fGGTLDRkQ1jKUIkszcDz_k-a_uMFTyfNn68r8Eb22eQ’ saved [1893/1893]\n",
      "\n",
      "--2017-03-21 01:26:11--  https://encrypted-tbn3.gstatic.com/images?q=tbn:ANd9GcQwk1Eq2LgyZU3epLgwZlpSRkFC3u373B79vb0AH_7Kgr5emeBK43dT-fxXee7mm7GHv6I\n",
      "Connecting to encrypted-tbn3.gstatic.com|216.58.220.206|:443... connected.\n",
      "HTTP request sent, awaiting response... 200 OK\n",
      "Length: 1255 (1.2K) [image/jpeg]\n",
      "Saving to: ‘images?q=tbn:ANd9GcQwk1Eq2LgyZU3epLgwZlpSRkFC3u373B79vb0AH_7Kgr5emeBK43dT-fxXee7mm7GHv6I’\n",
      "\n",
      "images?q=tbn:ANd9Gc 100%[===================>]   1.23K  --.-KB/s    in 0.01s   \n",
      "\n",
      "2017-03-21 01:26:11 (120 KB/s) - ‘images?q=tbn:ANd9GcQwk1Eq2LgyZU3epLgwZlpSRkFC3u373B79vb0AH_7Kgr5emeBK43dT-fxXee7mm7GHv6I’ saved [1255/1255]\n",
      "\n",
      "--2017-03-21 01:26:11--  https://encrypted-tbn0.gstatic.com/images?q=tbn:ANd9GcQvxZ1VOW6ZNHG6gvceoj4ibJPvVu9mT7jBc4Z6hSq4kkHZqVIVW7aoUFczS0Md8UD4PAw\n",
      "Connecting to encrypted-tbn0.gstatic.com|216.58.220.206|:443... connected.\n",
      "HTTP request sent, awaiting response... 200 OK\n",
      "Length: 3395 (3.3K) [image/jpeg]\n",
      "Saving to: ‘images?q=tbn:ANd9GcQvxZ1VOW6ZNHG6gvceoj4ibJPvVu9mT7jBc4Z6hSq4kkHZqVIVW7aoUFczS0Md8UD4PAw’\n",
      "\n",
      "images?q=tbn:ANd9Gc 100%[===================>]   3.32K  --.-KB/s    in 0s      \n",
      "\n",
      "2017-03-21 01:26:11 (22.3 MB/s) - ‘images?q=tbn:ANd9GcQvxZ1VOW6ZNHG6gvceoj4ibJPvVu9mT7jBc4Z6hSq4kkHZqVIVW7aoUFczS0Md8UD4PAw’ saved [3395/3395]\n",
      "\n",
      "FINISHED --2017-03-21 01:26:11--\n",
      "Total wall clock time: 1.5s\n",
      "Downloaded: 13 files, 27K in 0.03s (1.03 MB/s)\n"
     ]
    }
   ],
   "source": [
    "if not os.path.exists('ricelinks'):\n",
    "    links = get_image_links('rice')\n",
    "    links = list(set(links))\n",
    "    with open('ricelinks', 'w') as fl:\n",
    "        fl.write('\\n'.join(links))\n",
    "\n",
    "    ! mkdir ../images/rice/\n",
    "    ! cd ../images/rice/ && wget -i ../../notebooks/ricelinks"
   ]
  },
  {
   "cell_type": "markdown",
   "metadata": {},
   "source": [
    "### Creating training dataset"
   ]
  },
  {
   "cell_type": "code",
   "execution_count": 36,
   "metadata": {
    "collapsed": true
   },
   "outputs": [],
   "source": [
    "wheat_paths = []\n",
    "for fl in os.listdir('../images/wheat/'):\n",
    "    path = '../images/wheat/' + fl\n",
    "    wheat_paths.append(path)"
   ]
  },
  {
   "cell_type": "code",
   "execution_count": 37,
   "metadata": {
    "collapsed": true
   },
   "outputs": [],
   "source": [
    "rice_paths = []\n",
    "for fl in os.listdir('../images/rice/'):\n",
    "    path = '../images/rice/' + fl\n",
    "    barley_paths.append(path)"
   ]
  },
  {
   "cell_type": "code",
   "execution_count": 38,
   "metadata": {
    "collapsed": false
   },
   "outputs": [],
   "source": [
    "wx, wy = set(), set()\n",
    "for path in wheat_paths:\n",
    "    x, y, _  = imread(path).shape\n",
    "    wx.add(x); wy.add(y)"
   ]
  },
  {
   "cell_type": "code",
   "execution_count": 39,
   "metadata": {
    "collapsed": false
   },
   "outputs": [
    {
     "data": {
      "text/plain": [
       "(55, 72)"
      ]
     },
     "execution_count": 39,
     "metadata": {},
     "output_type": "execute_result"
    }
   ],
   "source": [
    "for path in rice_paths:\n",
    "    x, y, _  = imread(path).shape\n",
    "    wx.add(x); wy.add(y)\n",
    "wx = list(sorted(wx))\n",
    "wy = list(sorted(wy))\n",
    "wx[0], wy[0]"
   ]
  },
  {
   "cell_type": "code",
   "execution_count": 40,
   "metadata": {
    "collapsed": false
   },
   "outputs": [
    {
     "name": "stdout",
     "output_type": "stream",
     "text": [
      "33\n"
     ]
    }
   ],
   "source": [
    "images, labels = [], []\n",
    "for path in rice_paths:\n",
    "    image = imresize(imread(path), (wx[0], wy[0]))\n",
    "    images.append(image)\n",
    "    labels.append('rice')\n",
    "for path in wheat_paths:\n",
    "    image = imresize(imread(path), (wx[0], wy[0]))\n",
    "    images.append(image)\n",
    "    labels.append('wheat')\n",
    "mask = np.random.random(len(labels)) < 1\n",
    "images = np.array(images)[mask]\n",
    "labels = np.array(labels)[mask]\n",
    "\n",
    "print(len(labels))"
   ]
  },
  {
   "cell_type": "code",
   "execution_count": 45,
   "metadata": {
    "collapsed": false
   },
   "outputs": [
    {
     "name": "stdout",
     "output_type": "stream",
     "text": [
      "[ 1.  1.  1.]\n"
     ]
    }
   ],
   "source": [
    "X, y = [i.flatten() for i in images], labels\n",
    "scores = cross_val_score(RandomForestClassifier(n_jobs=-1), X, y, cv=3)\n",
    "print(scores)"
   ]
  },
  {
   "cell_type": "code",
   "execution_count": 46,
   "metadata": {
    "collapsed": false
   },
   "outputs": [
    {
     "data": {
      "text/plain": [
       "RandomForestClassifier(bootstrap=True, class_weight=None, criterion='gini',\n",
       "            max_depth=None, max_features='auto', max_leaf_nodes=None,\n",
       "            min_impurity_split=1e-07, min_samples_leaf=1,\n",
       "            min_samples_split=2, min_weight_fraction_leaf=0.0,\n",
       "            n_estimators=10, n_jobs=-1, oob_score=False, random_state=None,\n",
       "            verbose=0, warm_start=False)"
      ]
     },
     "execution_count": 46,
     "metadata": {},
     "output_type": "execute_result"
    }
   ],
   "source": [
    "est = RandomForestClassifier(n_jobs=-1)\n",
    "est.fit(X, y)"
   ]
  },
  {
   "cell_type": "code",
   "execution_count": 48,
   "metadata": {
    "collapsed": true
   },
   "outputs": [],
   "source": [
    "with open('../image_classifier.pickle', 'wb') as fl:\n",
    "    pickle.dump(est, fl)"
   ]
  }
 ],
 "metadata": {
  "kernelspec": {
   "display_name": "Python 3",
   "language": "python",
   "name": "python3"
  },
  "language_info": {
   "codemirror_mode": {
    "name": "ipython",
    "version": 3
   },
   "file_extension": ".py",
   "mimetype": "text/x-python",
   "name": "python",
   "nbconvert_exporter": "python",
   "pygments_lexer": "ipython3",
   "version": "3.6.0"
  }
 },
 "nbformat": 4,
 "nbformat_minor": 2
}
